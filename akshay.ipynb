
{
 "cells": [
  {
   "cell_type": "markdown",
   "metadata": {},
   "source": [
    "# Titanic data analysis"
   ]
  },
  {
   "cell_type": "code",
   "execution_count": 58,
   "metadata": {},
   "outputs": [],
   "source": [
    "import numpy as np\n",
    "import pandas as pd\n",
    "import matplotlib.pyplot as plt\n",
    "import seaborn as sns\n",
    "import math\n",
    "%matplotlib inline"
   ]
  },
  {
   "cell_type": "markdown",
   "metadata": {},
   "source": [
    "### 1.Collecting data"
   ]
  },
  {
   "cell_type": "code",
   "execution_count": 59,
   "metadata": {},
   "outputs": [],
   "source": [
    "titanic_data = pd.read_csv('train.csv')"
   ]
  },
  {
   "cell_type": "code",
   "execution_count": 60,
   "metadata": {},
   "outputs": [
    {
     "data": {
      "text/plain": [
       "12"
      ]
     },
     "execution_count": 60,
     "metadata": {},
     "output_type": "execute_result"
    }
   ],
   "source": [
    "#number of columns\n",
    "len(titanic_data.columns)"
   ]
  },
  {
   "cell_type": "code",
   "execution_count": 4,
   "metadata": {},
   "outputs": [
    {
     "data": {
      "text/plain": [
       "891"
      ]
     },
     "execution_count": 4,
     "metadata": {},
     "output_type": "execute_result"
    }
   ],
   "source": [
    "#number of rows\n",
    "len(titanic_data)"
   ]
  },
  {
   "cell_type": "code",
   "execution_count": 5,
   "metadata": {},
   "outputs": [
    {
     "data": {
      "text/html": [
       "<div>\n",
       "<style scoped>\n",
       "    .dataframe tbody tr th:only-of-type {\n",
       "        vertical-align: middle;\n",
       "    }\n",
       "\n",
       "    .dataframe tbody tr th {\n",
       "        vertical-align: top;\n",
       "    }\n",
       "\n",
       "    .dataframe thead th {\n",
       "        text-align: right;\n",
       "    }\n",
       "</style>\n",
       "<table border=\"1\" class=\"dataframe\">\n",
       "  <thead>\n",
       "    <tr style=\"text-align: right;\">\n",
       "      <th></th>\n",
       "      <th>PassengerId</th>\n",
       "      <th>Survived</th>\n",
       "      <th>Pclass</th>\n",
       "      <th>Name</th>\n",
       "      <th>Sex</th>\n",
       "      <th>Age</th>\n",
       "      <th>SibSp</th>\n",
       "      <th>Parch</th>\n",
       "      <th>Ticket</th>\n",
       "      <th>Fare</th>\n",
       "      <th>Cabin</th>\n",
       "      <th>Embarked</th>\n",
       "    </tr>\n",
       "  </thead>\n",
       "  <tbody>\n",
       "    <tr>\n",
       "      <th>0</th>\n",
       "      <td>1</td>\n",
       "      <td>0</td>\n",
       "      <td>3</td>\n",
       "      <td>Braund, Mr. Owen Harris</td>\n",
       "      <td>male</td>\n",
       "      <td>22.0</td>\n",
       "      <td>1</td>\n",
       "      <td>0</td>\n",
       "      <td>A/5 21171</td>\n",
       "      <td>7.2500</td>\n",
       "      <td>NaN</td>\n",
       "      <td>S</td>\n",
       "    </tr>\n",
       "    <tr>\n",
       "      <th>1</th>\n",
       "      <td>2</td>\n",
       "      <td>1</td>\n",
       "      <td>1</td>\n",
       "      <td>Cumings, Mrs. John Bradley (Florence Briggs Th...</td>\n",
       "      <td>female</td>\n",
       "      <td>38.0</td>\n",
       "      <td>1</td>\n",
       "      <td>0</td>\n",
       "      <td>PC 17599</td>\n",
       "      <td>71.2833</td>\n",
       "      <td>C85</td>\n",
       "      <td>C</td>\n",
       "    </tr>\n",
       "    <tr>\n",
       "      <th>2</th>\n",
       "      <td>3</td>\n",
       "      <td>1</td>\n",
       "      <td>3</td>\n",
       "      <td>Heikkinen, Miss. Laina</td>\n",
       "      <td>female</td>\n",
       "      <td>26.0</td>\n",
       "      <td>0</td>\n",
       "      <td>0</td>\n",
       "      <td>STON/O2. 3101282</td>\n",
       "      <td>7.9250</td>\n",
       "      <td>NaN</td>\n",
       "      <td>S</td>\n",
       "    </tr>\n",
       "    <tr>\n",
       "      <th>3</th>\n",
       "      <td>4</td>\n",
       "      <td>1</td>\n",
       "      <td>1</td>\n",
       "      <td>Futrelle, Mrs. Jacques Heath (Lily May Peel)</td>\n",
       "      <td>female</td>\n",
       "      <td>35.0</td>\n",
       "      <td>1</td>\n",
       "      <td>0</td>\n",
       "      <td>113803</td>\n",
       "      <td>53.1000</td>\n",
       "      <td>C123</td>\n",
       "      <td>S</td>\n",
       "    </tr>\n",
       "    <tr>\n",
       "      <th>4</th>\n",
       "      <td>5</td>\n",
       "      <td>0</td>\n",
       "      <td>3</td>\n",
       "      <td>Allen, Mr. William Henry</td>\n",
       "      <td>male</td>\n",
       "      <td>35.0</td>\n",
       "      <td>0</td>\n",
       "      <td>0</td>\n",
       "      <td>373450</td>\n",
       "      <td>8.0500</td>\n",
       "      <td>NaN</td>\n",
       "      <td>S</td>\n",
       "    </tr>\n",
       "    <tr>\n",
       "      <th>5</th>\n",
       "      <td>6</td>\n",
       "      <td>0</td>\n",
       "      <td>3</td>\n",
       "      <td>Moran, Mr. James</td>\n",
       "      <td>male</td>\n",
       "      <td>NaN</td>\n",
       "      <td>0</td>\n",
       "      <td>0</td>\n",
       "      <td>330877</td>\n",
       "      <td>8.4583</td>\n",
       "      <td>NaN</td>\n",
       "      <td>Q</td>\n",
       "    </tr>\n",
       "  </tbody>\n",
       "</table>\n",
       "</div>"
      ],
      "text/plain": [
       "   PassengerId  Survived  Pclass  \\\n",
       "0            1         0       3   \n",
       "1            2         1       1   \n",
       "2            3         1       3   \n",
       "3            4         1       1   \n",
       "4            5         0       3   \n",
       "5            6         0       3   \n",
       "\n",
       "                                                Name     Sex   Age  SibSp  \\\n",
       "0                            Braund, Mr. Owen Harris    male  22.0      1   \n",
       "1  Cumings, Mrs. John Bradley (Florence Briggs Th...  female  38.0      1   \n",
       "2                             Heikkinen, Miss. Laina  female  26.0      0   \n",
       "3       Futrelle, Mrs. Jacques Heath (Lily May Peel)  female  35.0      1   \n",
       "4                           Allen, Mr. William Henry    male  35.0      0   \n",
       "5                                   Moran, Mr. James    male   NaN      0   \n",
       "\n",
       "   Parch            Ticket     Fare Cabin Embarked  \n",
       "0      0         A/5 21171   7.2500   NaN        S  \n",
       "1      0          PC 17599  71.2833   C85        C  \n",
       "2      0  STON/O2. 3101282   7.9250   NaN        S  \n",
       "3      0            113803  53.1000  C123        S  \n",
       "4      0            373450   8.0500   NaN        S  \n",
       "5      0            330877   8.4583   NaN        Q  "
      ]
     },
     "execution_count": 5,
     "metadata": {},
     "output_type": "execute_result"
    }
   ],
   "source": [
    "titanic_data.head(6)"
   ]
  },
  {
   "cell_type": "code",
   "execution_count": 6,
   "metadata": {},
   "outputs": [
    {
     "data": {
      "text/plain": [
       "(891, 12)"
      ]
     },
     "execution_count": 6,
     "metadata": {},
     "output_type": "execute_result"
    }
   ],
   "source": [
    "titanic_data.shape"
   ]
  },
  {
   "cell_type": "code",
   "execution_count": 7,
   "metadata": {},
   "outputs": [
    {
     "name": "stdout",
     "output_type": "stream",
     "text": [
      "total number of passengers in the data is: 891\n"
     ]
    }
   ],
   "source": [
    "print('total number of passengers in the data is:', str(len(titanic_data)))"
   ]
  },
  {
   "cell_type": "markdown",
   "metadata": {},
   "source": [
    "### 2. Analysing data"
   ]
  },
  {
   "cell_type": "code",
   "execution_count": 8,
   "metadata": {},
   "outputs": [
    {
     "data": {
      "text/plain": [
       "<matplotlib.axes._subplots.AxesSubplot at 0x2618cd4dd30>"
      ]
     },
     "execution_count": 8,
     "metadata": {},
     "output_type": "execute_result"
    },
    {
     "data": {
      "image/png": "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\n",
      "text/plain": [
       "<Figure size 432x288 with 1 Axes>"
      ]
     },
     "metadata": {},
     "output_type": "display_data"
    }
   ],
   "source": [
    "sns.set(style=\"darkgrid\")\n",
    "sns.countplot(x='Survived',data=titanic_data)"
   ]
  },
  {
   "cell_type": "code",
   "execution_count": 9,
   "metadata": {},
   "outputs": [
    {
     "data": {
      "text/plain": [
       "<matplotlib.axes._subplots.AxesSubplot at 0x2618d33fc88>"
      ]
     },
     "execution_count": 9,
     "metadata": {},
     "output_type": "execute_result"
    },
    {
     "data": {
      "image/png": "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\n",
      "text/plain": [
       "<Figure size 432x288 with 1 Axes>"
      ]
     },
     "metadata": {},
     "output_type": "display_data"
    }
   ],
   "source": [
    "sns.set(style=\"darkgrid\")\n",
    "sns.countplot(x='Pclass',data=titanic_data)"
   ]
  },
  {
   "cell_type": "code",
   "execution_count": 10,
   "metadata": {},
   "outputs": [
    {
     "data": {
      "text/plain": [
       "<matplotlib.axes._subplots.AxesSubplot at 0x2618ce64358>"
      ]
     },
     "execution_count": 10,
     "metadata": {},
     "output_type": "execute_result"
    },
    {
     "data": {
      "image/png": "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\n",
      "text/plain": [
       "<Figure size 432x288 with 1 Axes>"
      ]
     },
     "metadata": {},
     "output_type": "display_data"
    }
   ],
   "source": [
    "sns.set(style=\"darkgrid\")\n",
    "sns.countplot(y='Pclass',data=titanic_data)\n",
    "#note: we changed 'x' to 'y' inside countplot parameter"
   ]
  },
  {
   "cell_type": "code",
   "execution_count": 11,
   "metadata": {},
   "outputs": [
    {
     "data": {
      "text/plain": [
       "<matplotlib.axes._subplots.AxesSubplot at 0x2618d020a20>"
      ]
     },
     "execution_count": 11,
     "metadata": {},
     "output_type": "execute_result"
    },
    {
     "data": {
      "image/png": "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\n",
      "text/plain": [
       "<Figure size 432x288 with 1 Axes>"
      ]
     },
     "metadata": {},
     "output_type": "display_data"
    }
   ],
   "source": [
    "sns.countplot(x='Pclass',data=titanic_data)"
   ]
  },
  {
   "cell_type": "code",
   "execution_count": 12,
   "metadata": {},
   "outputs": [
    {
     "data": {
      "text/plain": [
       "Index(['PassengerId', 'Survived', 'Pclass', 'Name', 'Sex', 'Age', 'SibSp',\n",
       "       'Parch', 'Ticket', 'Fare', 'Cabin', 'Embarked'],\n",
       "      dtype='object')"
      ]
     },
     "execution_count": 12,
     "metadata": {},
     "output_type": "execute_result"
    }
   ],
   "source": [
    "titanic_data.columns"
   ]
  },
  {
   "cell_type": "code",
   "execution_count": 13,
   "metadata": {},
   "outputs": [
    {
     "data": {
      "text/plain": [
       "<matplotlib.axes._subplots.AxesSubplot at 0x2618d18d630>"
      ]
     },
     "execution_count": 13,
     "metadata": {},
     "output_type": "execute_result"
    },
    {
     "data": {
      "image/png": "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\n",
      "text/plain": [
       "<Figure size 432x288 with 1 Axes>"
      ]
     },
     "metadata": {},
     "output_type": "display_data"
    }
   ],
   "source": [
    "sns.set(style='white')\n",
    "sns.countplot(data=titanic_data,x='Survived',hue='Sex')"
   ]
  },
  {
   "cell_type": "code",
   "execution_count": 14,
   "metadata": {},
   "outputs": [
    {
     "data": {
      "text/plain": [
       "<matplotlib.axes._subplots.AxesSubplot at 0x2618d26c4a8>"
      ]
     },
     "execution_count": 14,
     "metadata": {},
     "output_type": "execute_result"
    },
    {
     "data": {
      "image/png": "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\n",
      "text/plain": [
       "<Figure size 432x288 with 1 Axes>"
      ]
     },
     "metadata": {},
     "output_type": "display_data"
    }
   ],
   "source": [
    "sns.countplot(data=titanic_data,x='Survived',hue='Pclass')\n",
    "# 0 for passengers who didn't survived\n",
    "# 1 for passeners who survived"
   ]
  },
  {
   "cell_type": "code",
   "execution_count": 15,
   "metadata": {},
   "outputs": [
    {
     "data": {
      "text/plain": [
       "<matplotlib.axes._subplots.AxesSubplot at 0x2618e58abe0>"
      ]
     },
     "execution_count": 15,
     "metadata": {},
     "output_type": "execute_result"
    },
    {
     "data": {
      "image/png": "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\n",
      "text/plain": [
       "<Figure size 720x360 with 1 Axes>"
      ]
     },
     "metadata": {},
     "output_type": "display_data"
    }
   ],
   "source": [
    "titanic_data['Fare'].plot.hist(figsize=(10,5),bins=20)"
   ]
  },
  {
   "cell_type": "code",
   "execution_count": 16,
   "metadata": {},
   "outputs": [
    {
     "name": "stdout",
     "output_type": "stream",
     "text": [
      "<class 'pandas.core.frame.DataFrame'>\n",
      "RangeIndex: 891 entries, 0 to 890\n",
      "Data columns (total 12 columns):\n",
      "PassengerId    891 non-null int64\n",
      "Survived       891 non-null int64\n",
      "Pclass         891 non-null int64\n",
      "Name           891 non-null object\n",
      "Sex            891 non-null object\n",
      "Age            714 non-null float64\n",
      "SibSp          891 non-null int64\n",
      "Parch          891 non-null int64\n",
      "Ticket         891 non-null object\n",
      "Fare           891 non-null float64\n",
      "Cabin          204 non-null object\n",
      "Embarked       889 non-null object\n",
      "dtypes: float64(2), int64(5), object(5)\n",
      "memory usage: 83.6+ KB\n"
     ]
    }
   ],
   "source": [
    "titanic_data.info()"
   ]
  },
  {
   "cell_type": "code",
   "execution_count": 17,
   "metadata": {},
   "outputs": [
    {
     "data": {
      "text/plain": [
       "<matplotlib.axes._subplots.AxesSubplot at 0x2618e577f98>"
      ]
     },
     "execution_count": 17,
     "metadata": {},
     "output_type": "execute_result"
    },
    {
     "data": {
      "image/png": "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\n",
      "text/plain": [
       "<Figure size 432x288 with 1 Axes>"
      ]
     },
     "metadata": {},
     "output_type": "display_data"
    }
   ],
   "source": [
    "sns.set(style='darkgrid')\n",
    "sns.countplot(data=titanic_data,x='SibSp')"
   ]
  },
  {
   "cell_type": "code",
   "execution_count": 18,
   "metadata": {},
   "outputs": [
    {
     "data": {
      "text/plain": [
       "<matplotlib.axes._subplots.AxesSubplot at 0x2618e692668>"
      ]
     },
     "execution_count": 18,
     "metadata": {},
     "output_type": "execute_result"
    },
    {
     "data": {
      "image/png": "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\n",
      "text/plain": [
       "<Figure size 432x288 with 1 Axes>"
      ]
     },
     "metadata": {},
     "output_type": "display_data"
    }
   ],
   "source": [
    "sns.countplot(data=titanic_data,x='Parch')"
   ]
  },
  {
   "cell_type": "markdown",
   "metadata": {},
   "source": [
    "## 3. Data wrangling"
   ]
  },
  {
   "cell_type": "code",
   "execution_count": 61,
   "metadata": {},
   "outputs": [
    {
     "data": {
      "text/html": [
       "<div>\n",
       "<style scoped>\n",
       "    .dataframe tbody tr th:only-of-type {\n",
       "        vertical-align: middle;\n",
       "    }\n",
       "\n",
       "    .dataframe tbody tr th {\n",
       "        vertical-align: top;\n",
       "    }\n",
       "\n",
       "    .dataframe thead th {\n",
       "        text-align: right;\n",
       "    }\n",
       "</style>\n",
       "<table border=\"1\" class=\"dataframe\">\n",
       "  <thead>\n",
       "    <tr style=\"text-align: right;\">\n",
       "      <th></th>\n",
       "      <th>Cabin</th>\n",
       "      <th>Embarked</th>\n",
       "    </tr>\n",
       "  </thead>\n",
       "  <tbody>\n",
       "    <tr>\n",
       "      <th>0</th>\n",
       "      <td>NaN</td>\n",
       "      <td>S</td>\n",
       "    </tr>\n",
       "    <tr>\n",
       "      <th>1</th>\n",
       "      <td>C85</td>\n",
       "      <td>C</td>\n",
       "    </tr>\n",
       "    <tr>\n",
       "      <th>2</th>\n",
       "      <td>NaN</td>\n",
       "      <td>S</td>\n",
       "    </tr>\n",
       "    <tr>\n",
       "      <th>3</th>\n",
       "      <td>C123</td>\n",
       "      <td>S</td>\n",
       "    </tr>\n",
       "    <tr>\n",
       "      <th>4</th>\n",
       "      <td>NaN</td>\n",
       "      <td>S</td>\n",
       "    </tr>\n",
       "  </tbody>\n",
       "</table>\n",
       "</div>"
      ],
      "text/plain": [
       "  Cabin Embarked\n",
       "0   NaN        S\n",
       "1   C85        C\n",
       "2   NaN        S\n",
       "3  C123        S\n",
       "4   NaN        S"
      ]
     },
     "execution_count": 61,
     "metadata": {},
     "output_type": "execute_result"
    }
   ],
   "source": [
    "titanic_data[['Cabin','Embarked']].head()"
   ]
  },
  {
   "cell_type": "code",
   "execution_count": 62,
   "metadata": {},
   "outputs": [
    {
     "data": {
      "text/html": [
       "<div>\n",
       "<style scoped>\n",
       "    .dataframe tbody tr th:only-of-type {\n",
       "        vertical-align: middle;\n",
       "    }\n",
       "\n",
       "    .dataframe tbody tr th {\n",
       "        vertical-align: top;\n",
       "    }\n",
       "\n",
       "    .dataframe thead th {\n",
       "        text-align: right;\n",
       "    }\n",
       "</style>\n",
       "<table border=\"1\" class=\"dataframe\">\n",
       "  <thead>\n",
       "    <tr style=\"text-align: right;\">\n",
       "      <th></th>\n",
       "      <th>Fare</th>\n",
       "      <th>Cabin</th>\n",
       "      <th>Embarked</th>\n",
       "    </tr>\n",
       "  </thead>\n",
       "  <tbody>\n",
       "    <tr>\n",
       "      <th>0</th>\n",
       "      <td>7.2500</td>\n",
       "      <td>NaN</td>\n",
       "      <td>S</td>\n",
       "    </tr>\n",
       "    <tr>\n",
       "      <th>1</th>\n",
       "      <td>71.2833</td>\n",
       "      <td>C85</td>\n",
       "      <td>C</td>\n",
       "    </tr>\n",
       "    <tr>\n",
       "      <th>2</th>\n",
       "      <td>7.9250</td>\n",
       "      <td>NaN</td>\n",
       "      <td>S</td>\n",
       "    </tr>\n",
       "    <tr>\n",
       "      <th>3</th>\n",
       "      <td>53.1000</td>\n",
       "      <td>C123</td>\n",
       "      <td>S</td>\n",
       "    </tr>\n",