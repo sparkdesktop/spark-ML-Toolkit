{
 "cells": [
  {
   "cell_type": "code",
   "execution_count": 4,
   "metadata": {},
   "outputs": [],
   "source": [
    "import numpy as np\n",
    "import pandas as pd"
   ]
  },
  {
   "cell_type": "markdown",
   "metadata": {},
   "source": [
    "### loading dataset"
   ]
  },
  {
   "cell_type": "code",
   "execution_count": 5,
   "metadata": {},
   "outputs": [],
   "source": [
    "data = pd.read_csv(\"student-data.csv\")"
   ]
  },
  {
   "cell_type": "code",
   "execution_count": 6,
   "metadata": {},
   "outputs": [
    {
     "data": {
      "text/html": [
       "<div>\n",
       "<style scoped>\n",
       "    .dataframe tbody tr th:only-of-type {\n",
       "        vertical-align: middle;\n",
       "    }\n",
       "\n",
       "    .dataframe tbody tr th {\n",
       "        vertical-align: top;\n",
       "    }\n",
       "\n",
       "    .dataframe thead th {\n",
       "        text-align: right;\n",
       "    }\n",
       "</style>\n",
       "<table border=\"1\" class=\"dataframe\">\n",
       "  <thead>\n",
       "    <tr style=\"text-align: right;\">\n",
       "      <th></th>\n",
       "      <th>school</th>\n",
       "      <th>sex</th>\n",
       "      <th>age</th>\n",
       "      <th>address</th>\n",
       "      <th>famsize</th>\n",
       "      <th>Pstatus</th>\n",
       "      <th>Medu</th>\n",
       "      <th>Fedu</th>\n",
       "      <th>Mjob</th>\n",
       "      <th>Fjob</th>\n",
       "      <th>...</th>\n",
       "      <th>internet</th>\n",
       "      <th>romantic</th>\n",
       "      <th>famrel</th>\n",
       "      <th>freetime</th>\n",
       "      <th>goout</th>\n",
       "      <th>Dalc</th>\n",
       "      <th>Walc</th>\n",
       "      <th>health</th>\n",
       "      <th>absences</th>\n",
       "      <th>passed</th>\n",
       "    </tr>\n",
       "  </thead>\n",
       "  <tbody>\n",
       "    <tr>\n",
       "      <th>0</th>\n",
       "      <td>GP</td>\n",
       "      <td>F</td>\n",
       "      <td>18</td>\n",
       "      <td>U</td>\n",
       "      <td>GT3</td>\n",
       "      <td>A</td>\n",
       "      <td>4</td>\n",
       "      <td>4</td>\n",
       "      <td>at_home</td>\n",
       "      <td>teacher</td>\n",
       "      <td>...</td>\n",
       "      <td>no</td>\n",
       "      <td>no</td>\n",
       "      <td>4</td>\n",
       "      <td>3</td>\n",
       "      <td>4</td>\n",
       "      <td>1</td>\n",
       "      <td>1</td>\n",
       "      <td>3</td>\n",
       "      <td>6</td>\n",
       "      <td>no</td>\n",
       "    </tr>\n",
       "    <tr>\n",
       "      <th>1</th>\n",
       "      <td>GP</td>\n",
       "      <td>F</td>\n",
       "      <td>17</td>\n",
       "      <td>U</td>\n",
       "      <td>GT3</td>\n",
       "      <td>T</td>\n",
       "      <td>1</td>\n",
       "      <td>1</td>\n",
       "      <td>at_home</td>\n",
       "      <td>other</td>\n",
       "      <td>...</td>\n",
       "      <td>yes</td>\n",
       "      <td>no</td>\n",
       "      <td>5</td>\n",
       "      <td>3</td>\n",
       "      <td>3</td>\n",
       "      <td>1</td>\n",
       "      <td>1</td>\n",
       "      <td>3</td>\n",
       "      <td>4</td>\n",
       "      <td>no</td>\n",
       "    </tr>\n",
       "    <tr>\n",
       "      <th>2</th>\n",
       "      <td>GP</td>\n",
       "      <td>F</td>\n",
       "      <td>15</td>\n",
       "      <td>U</td>\n",
       "      <td>LE3</td>\n",
       "      <td>T</td>\n",
       "      <td>1</td>\n",
       "      <td>1</td>\n",
       "      <td>at_home</td>\n",
       "      <td>other</td>\n",
       "      <td>...</td>\n",
       "      <td>yes</td>\n",
       "      <td>no</td>\n",
       "      <td>4</td>\n",
       "      <td>3</td>\n",
       "      <td>2</td>\n",
       "      <td>2</td>\n",
       "      <td>3</td>\n",
       "      <td>3</td>\n",
       "      <td>10</td>\n",
       "      <td>yes</td>\n",
       "    </tr>\n",
       "    <tr>\n",
       "      <th>3</th>\n",
       "      <td>GP</td>\n",
       "      <td>F</td>\n",
       "      <td>15</td>\n",
       "      <td>U</td>\n",
       "      <td>GT3</td>\n",
       "      <td>T</td>\n",
       "      <td>4</td>\n",
       "      <td>2</td>\n",
       "      <td>health</td>\n",
       "      <td>services</td>\n",
       "      <td>...</td>\n",
       "      <td>yes</td>\n",
       "      <td>yes</td>\n",
       "      <td>3</td>\n",
       "      <td>2</td>\n",
       "      <td>2</td>\n",
       "      <td>1</td>\n",
       "      <td>1</td>\n",
       "      <td>5</td>\n",
       "      <td>2</td>\n",
       "      <td>yes</td>\n",
       "    </tr>\n",
       "    <tr>\n",
       "      <th>4</th>\n",
       "      <td>GP</td>\n",
       "      <td>F</td>\n",
       "      <td>16</td>\n",
       "      <td>U</td>\n",
       "      <td>GT3</td>\n",
       "      <td>T</td>\n",
       "      <td>3</td>\n",
       "      <td>3</td>\n",
       "      <td>other</td>\n",
       "      <td>other</td>\n",
       "      <td>...</td>\n",
       "      <td>no</td>\n",
       "      <td>no</td>\n",
       "      <td>4</td>\n",
       "      <td>3</td>\n",
       "      <td>2</td>\n",
       "      <td>1</td>\n",
       "      <td>2</td>\n",
       "      <td>5</td>\n",
       "      <td>4</td>\n",
       "      <td>yes</td>\n",
       "    </tr>\n",
       "  </tbody>\n",
       "</table>\n",
       "<p>5 rows × 31 columns</p>\n",
       "</div>"
      ],
      "text/plain": [
       "  school sex  age address famsize Pstatus  Medu  Fedu     Mjob      Fjob  \\\n",
       "0     GP   F   18       U     GT3       A     4     4  at_home   teacher   \n",
       "1     GP   F   17       U     GT3       T     1     1  at_home     other   \n",
       "2     GP   F   15       U     LE3       T     1     1  at_home     other   \n",
       "3     GP   F   15       U     GT3       T     4     2   health  services   \n",
       "4     GP   F   16       U     GT3       T     3     3    other     other   \n",
       "\n",
       "   ...   internet romantic  famrel  freetime  goout Dalc Walc health absences  \\\n",
       "0  ...         no       no       4         3      4    1    1      3        6   \n",
       "1  ...        yes       no       5         3      3    1    1      3        4   \n",
       "2  ...        yes       no       4         3      2    2    3      3       10   \n",
       "3  ...        yes      yes       3         2      2    1    1      5        2   \n",
       "4  ...         no       no       4         3      2    1    2      5        4   \n",
       "\n",
       "  passed  \n",
       "0     no  \n",
       "1     no  \n",
       "2    yes  \n",
       "3    yes  \n",
       "4    yes  \n",
       "\n",
       "[5 rows x 31 columns]"
      ]
     },
     "execution_count": 6,
     "metadata": {},
     "output_type": "execute_result"
    }
   ],
   "source": [
    "data.head()"
   ]
  },
  {
   "cell_type": "code",
   "execution_count": 7,
   "metadata": {},
   "outputs": [
    {
     "data": {
      "text/plain": [
       "(395, 31)"
      ]
     },
     "execution_count": 7,
     "metadata": {},
     "output_type": "execute_result"
    }
   ],
   "source": [
    "data.shape"
   ]
  },
  {
   "cell_type": "code",
   "execution_count": 9,
   "metadata": {},
   "outputs": [
    {
     "data": {
      "text/plain": [
       "pandas.core.frame.DataFrame"
      ]
     },
     "execution_count": 9,
     "metadata": {},
     "output_type": "execute_result"
    }
   ],
   "source": [
    "type(data)"
   ]
  },
  {
   "cell_type": "markdown",
   "metadata": {},
   "source": [
    "### Exploratory data analysis"
   ]
  },
  {
   "cell_type": "code",
   "execution_count": 10,
   "metadata": {},
   "outputs": [],
   "source": [
    "import matplotlib.pyplot as plt\n",
    "import seaborn as sns"
   ]
  },
  {
   "cell_type": "code",
   "execution_count": 12,
   "metadata": {},
   "outputs": [
    {
     "data": {
      "image/png": "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\n",
      "text/plain": [
       "<Figure size 432x288 with 1 Axes>"
      ]
     },
     "metadata": {
      "needs_background": "light"
     },
     "output_type": "display_data"
    }
   ],
   "source": [
    "a = data.plot()"
   ]
  },
  {
   "cell_type": "code",
   "execution_count": 14,
   "metadata": {},
   "outputs": [
    {
     "name": "stdout",
     "output_type": "stream",
     "text": [
      "<class 'pandas.core.frame.DataFrame'>\n",
      "RangeIndex: 395 entries, 0 to 394\n",
      "Data columns (total 31 columns):\n",
      "school        395 non-null object\n",
      "sex           395 non-null object\n",
      "age           395 non-null int64\n",
      "address       395 non-null object\n",
      "famsize       395 non-null object\n",
      "Pstatus       395 non-null object\n",
      "Medu          395 non-null int64\n",
      "Fedu          395 non-null int64\n",
      "Mjob          395 non-null object\n",
      "Fjob          395 non-null object\n",
      "reason        395 non-null object\n",
      "guardian      395 non-null object\n",
      "traveltime    395 non-null int64\n",
      "studytime     395 non-null int64\n",
      "failures      395 non-null int64\n",
      "schoolsup     395 non-null object\n",
      "famsup        395 non-null object\n",
      "paid          395 non-null object\n",
      "activities    395 non-null object\n",
      "nursery       395 non-null object\n",
      "higher        395 non-null object\n",
      "internet      395 non-null object\n",
      "romantic      395 non-null object\n",
      "famrel        395 non-null int64\n",
      "freetime      395 non-null int64\n",
      "goout         395 non-null int64\n",
      "Dalc          395 non-null int64\n",
      "Walc          395 non-null int64\n",
      "health        395 non-null int64\n",
      "absences      395 non-null int64\n",
      "passed        395 non-null object\n",
      "dtypes: int64(13), object(18)\n",
      "memory usage: 95.7+ KB\n"
     ]
    }
   ],
   "source": [
    "data.info()"
   ]
  },
  {
   "cell_type": "code",
   "execution_count": 16,
   "metadata": {},
   "outputs": [
    {
     "data": {
      "text/plain": [
       "school        0\n",
       "sex           0\n",
       "age           0\n",
       "address       0\n",
       "famsize       0\n",
       "Pstatus       0\n",
       "Medu          0\n",
       "Fedu          0\n",
       "Mjob          0\n",
       "Fjob          0\n",
       "reason        0\n",
       "guardian      0\n",
       "traveltime    0\n",
       "studytime     0\n",
       "failures      0\n",
       "schoolsup     0\n",
       "famsup        0\n",
       "paid          0\n",
       "activities    0\n",
       "nursery       0\n",
       "higher        0\n",
       "internet      0\n",
       "romantic      0\n",
       "famrel        0\n",
       "freetime      0\n",
       "goout         0\n",
       "Dalc          0\n",
       "Walc          0\n",
       "health        0\n",
       "absences      0\n",
       "passed        0\n",
       "dtype: int64"
      ]
     },
     "execution_count": 16,
     "metadata": {},
     "output_type": "execute_result"
    }
   ],
   "source": [
    "data.isnull().sum()"
   ]
  },
  {
   "cell_type": "code",
   "execution_count": 20,
   "metadata": {},
   "outputs": [
    {
     "data": {
      "image/png": "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\n",
      "text/plain": [
       "<Figure size 432x288 with 2 Axes>"
      ]
     },
     "metadata": {
      "needs_background": "light"
     },
     "output_type": "display_data"
    }
   ],
   "source": [
    "a = sns.heatmap(data.isnull(),cmap='Blues')"
   ]
  },
  {
   "cell_type": "code",
   "execution_count": 21,
   "metadata": {},
   "outputs": [
    {
     "data": {
      "image/png": "iVBORw0KGgoAAAANSUhEUgAAAV4AAAElCAYAAACszooYAAAABHNCSVQICAgIfAhkiAAAAAlwSFlzAAALEgAACxIB0t1+/AAAADl0RVh0U29mdHdhcmUAbWF0cGxvdGxpYiB2ZXJzaW9uIDIuMi4zLCBodHRwOi8vbWF0cGxvdGxpYi5vcmcvIxREBQAAIABJREFUeJzt3XmcXFWZ//HPtxM2USAgKosICqIREZHNHRcQV1BBQNQ4olEEwWV+A4wLAjoK6jCjMmgGYfjhAsioREUCsoiKICAQiMgQcSGAOsqOIgSe+eOcoqub6u57qorbN7e/77zqla5b9z51qqrr6XPPPYsiAjMzq8/IdBfAzGymceI1M6uZE6+ZWc2ceM3MaubEa2ZWMydeM7OaOfGamdXMidfMrGZOvGZmNZtdsvP+377Ww9zMrJJjX/90DXL8as8+oHK++dsVXxzouepWlHjNzGqj9p6QO/GaWTNpharEFnHiNbNmco3XzKxmrvGamdVsZNZ0l+AR48RrZs3kpgYzs5q5qcHMrGau8ZqZ1cw1XjOzmrnGa2ZWM/dqMDOrmWu8ZmY1G3Ebr5lZvVzjNTOrmXs1mJnVzBfXzMxq1uKmhva+MjNbsUnVb5XCaRdJ10laKumQHo+vIunU/PglkjbO21eSdJKkqyVdK+nQQV+aE6+ZNZNGqt+mCiXNAo4FXgnMBfaWNHfcbvsCt0XEpsAxwFF5+x7AKhHxTOA5wLs7SblfTrxm1kzDrfFuByyNiBsi4j7gFGDXcfvsCpyUfz4deJkkAQGsLmk2sBpwH3DnIC/NidfMmmmINV5gA+DGrvvL8rae+0TEcuAOYB1SEr4HuAX4PfDZiLh1kJfmi2tm1kwFvRokzQfmd21aEBELunfpcdj4VYwn2mc74AFgfWAO8GNJP4yIGyoXcBwnXjNrpoJeDTnJLphkl2XAE7vubwjcPME+y3KzwprArcCbgbMi4n7gT5J+CmwD9J143dRgZs003DbeS4HNJG0iaWVgL2DhuH0WAvPyz7sD50VEkJoXXqpkdWAH4FeDvDTXeM2smYbYjzcilks6AFgEzAJOiIglko4A