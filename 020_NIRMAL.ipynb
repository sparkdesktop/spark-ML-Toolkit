{
 "cells": [
  {
   "cell_type": "code",
   "execution_count": 4,
   "metadata": {},
   "outputs": [],
   "source": [
    "import numpy as np\n",
    "import pandas as pd"
   ]
  },
  {
   "cell_type": "markdown",
   "metadata": {},
   "source": [
    "### loading dataset"
   ]
  },
  {
   "cell_type": "code",
   "execution_count": 5,
   "metadata": {},
   "outputs": [],
   "source": [
    "data = pd.read_csv(\"student-data.csv\")"
   ]
  },
  {
   "cell_type": "code",
   "execution_count": 6,
   "metadata": {},
   "outputs": [
    {
     "data": {
      "text/html": [
       "<div>\n",
       "<style scoped>\n",
       "    .dataframe tbody tr th:only-of-type {\n",
       "        vertical-align: middle;\n",
       "    }\n",
       "\n",
       "    .dataframe tbody tr th {\n",
       "        vertical-align: top;\n",
       "    }\n",
       "\n",
       "    .dataframe thead th {\n",
       "        text-align: right;\n",
       "    }\n",
       "</style>\n",
       "<table border=\"1\" class=\"dataframe\">\n",
       "  <thead>\n",
       "    <tr style=\"text-align: right;\">\n",
       "      <th></th>\n",
       "      <th>school</th>\n",
       "      <th>sex</th>\n",
       "      <th>age</th>\n",
       "      <th>address</th>\n",
       "      <th>famsize</th>\n",
       "      <th>Pstatus</th>\n",
       "      <th>Medu</th>\n",
       "      <th>Fedu</th>\n",
       "      <th>Mjob</th>\n",
       "      <th>Fjob</th>\n",
       "      <th>...</th>\n",
       "      <th>internet</th>\n",
       "      <th>romantic</th>\n",
       "      <th>famrel</th>\n",
       "      <th>freetime</th>\n",
       "      <th>goout</th>\n",
       "      <th>Dalc</th>\n",
       "      <th>Walc</th>\n",
       "      <th>health</th>\n",
       "      <th>absences</th>\n",
       "      <th>passed</th>\n",
       "    </tr>\n",
       "  </thead>\n",
       "  <tbody>\n",
       "    <tr>\n",
       "      <th>0</th>\n",
       "      <td>GP</td>\n",
       "      <td>F</td>\n",
       "      <td>18</td>\n",
       "      <td>U</td>\n",
       "      <td>GT3</td>\n",
       "      <td>A</td>\n",
       "      <td>4</td>\n",
       "      <td>4</td>\n",
       "      <td>at_home</td>\n",
       "      <td>teacher</td>\n",
       "      <td>...</td>\n",
       "      <td>no</td>\n",
       "      <td>no</td>\n",
       "      <td>4</td>\n",
       "      <td>3</td>\n",
       "      <td>4</td>\n",
       "      <td>1</td>\n",
       "      <td>1</td>\n",
       "      <td>3</td>\n",
       "      <td>6</td>\n",
       "      <td>no</td>\n",
       "    </tr>\n",
       "    <tr>\n",
       "      <th>1</th>\n",
       "      <td>GP</td>\n",
       "      <td>F</td>\n",
       "      <td>17</td>\n",
       "      <td>U</td>\n",
       "      <td>GT3</td>\n",
       "      <td>T</td>\n",
       "      <td>1</td>\n",
       "      <td>1</td>\n",
       "      <td>at_home</td>\n",
       "      <td>other</td>\n",
       "      <td>...</td>\n",
       "      <td>yes</td>\n",
       "      <td>no</td>\n",
       "      <td>5</td>\n",
       "      <td>3</td>\n",
       "      <td>3</td>\n",
       "      <td>1</td>\n",
       "      <td>1</td>\n",
       "      <td>3</td>\n",
       "      <td>4</td>\n",
       "      <td>no</td>\n",
       "    </tr>\n",
       "    <tr>\n",
       "      <th>2</th>\n",
       "      <td>GP</td>\n",
       "      <td>F</td>\n",
       "      <td>15</td>\n",
       "      <td>U</td>\n",
       "      <td>LE3</td>\n",
       "      <td>T</td>\n",
       "      <td>1</td>\n",
       "      <td>1</td>\n",
       "      <td>at_home</td>\n",
       "      <td>other</td>\n",
       "      <td>...</td>\n",
       "      <td>yes</td>\n",
       "      <td>no</td>\n",
       "      <td>4</td>\n",
       "      <td>3</td>\n",
       "      <td>2</td>\n",
       "      <td>2</td>\n",
       "      <td>3</td>\n",
       "      <td>3</td>\n",
       "      <td>10</td>\n",
       "      <td>yes</td>\n",
       "    </tr>\n",
       "    <tr>\n",
       "      <th>3</th>\n",
       "      <td>GP</td>\n",
       "      <td>F</td>\n",
       "      <td>15</td>\n",
       "      <td>U</td>\n",
       "      <td>GT3</td>\n",
       "      <td>T</td>\n",
       "      <td>4</td>\n",
       "      <td>2</td>\n",
       "      <td>health</td>\n",
       "      <td>services</td>\n",
       "      <td>...</td>\n",
       "      <td>yes</td>\n",
       "      <td>yes</td>\n",
       "      <td>3</td>\n",
       "      <td>2</td>\n",
       "      <td>2</td>\n",
       "      <td>1</td>\n",
       "      <td>1</td>\n",
       "      <td>5</td>\n",
       "      <td>2</td>\n",
       "      <td>yes</td>\n",
       "    </tr>\n",
       "    <tr>\n",
       "      <th>4</th>\n",
       "      <td>GP</td>\n",
       "      <td>F</td>\n",
       "      <td>16</td>\n",
       "      <td>U</td>\n",
       "      <td>GT3</td>\n",
       "      <td>T</td>\n",
       "      <td>3</td>\n",
       "      <td>3</td>\n",
       "      <td>other</td>\n",
       "      <td>other</td>\n",
       "      <td>...</td>\n",
       "      <td>no</td>\n",
       "      <td>no</td>\n",
       "      <td>4</td>\n",
       "      <td>3</td>\n",
       "      <td>2</td>\n",
       "      <td>1</td>\n",
       "      <td>2</td>\n",
       "      <td>5</td>\n",
       "      <td>4</td>\n",
       "      <td>yes</td>\n",
       "    </tr>\n",
       "  </tbody>\n",
       "</table>\n",
       "<p>5 rows × 31 columns</p>\n",
       "</div>"
      ],
      "text/plain": [
       "  school sex  age address famsize Pstatus  Medu  Fedu     Mjob      Fjob  \\\n",
       "0     GP   F   18       U     GT3       A     4     4  at_home   teacher   \n",
       "1     GP   F   17       U     GT3       T     1     1  at_home     other   \n",
       "2     GP   F   15       U     LE3       T     1     1  at_home     other   \n",
       "3     GP   F   15       U     GT3       T     4     2   health  services   \n",
       "4     GP   F   16       U     GT3       T     3     3    other     other   \n",
       "\n",
       "   ...   internet romantic  famrel  freetime  goout Dalc Walc health absences  \\\n",
       "0  ...         no       no       4         3      4    1    1      3        6   \n",
       "1  ...        yes       no       5         3      3    1    1      3        4   \n",
       "2  ...        yes       no       4         3      2    2    3      3       10   \n",
       "3  ...        yes      yes       3         2      2    1    1      5        2   \n",
       "4  ...         no       no       4         3      2    1    2      5        4   \n",
       "\n",
       "  passed  \n",
       "0     no  \n",
       "1     no  \n",
       "2    yes  \n",
       "3    yes  \n",
       "4    yes  \n",
       "\n",
       "[5 rows x 31 columns]"
      ]
     },
     "execution_count": 6,
     "metadata": {},
     "output_type": "execute_result"
    }
   ],
   "source": [
    "data.head()"
   ]
  },
  {
   "cell_type": "code",
   "execution_count": 7,
   "metadata": {},
   "outputs": [
    {
     "data": {
      "text/plain": [
       "(395, 31)"
      ]
     },
     "execution_count": 7,
     "metadata": {},
     "output_type": "execute_result"
    }
   ],
   "source": [
    "data.shape"
   ]
  },
  {
   "cell_type": "code",
   "execution_count": 9,
   "metadata": {},
   "outputs": [
    {
     "data": {
      "text/plain": [
       "pandas.core.frame.DataFrame"
      ]
     },
     "execution_count": 9,
     "metadata": {},
     "output_type": "execute_result"
    }
   ],
   "source": [
    "type(data)"
   ]
  },
  {
   "cell_type": "markdown",
   "metadata": {},
   "source": [
    "### Exploratory data analysis"
   ]
  },
  {
   "cell_type": "code",
   "execution_count": 10,
   "metadata": {},
   "outputs": [],
   "source": [
    "import matplotlib.pyplot as plt\n",
    "import seaborn as sns"
   ]
  },
  {
   "cell_type": "code",
   "execution_count": 12,
   "metadata": {},
   "outputs": [
    {
     "data": {
      "image/png": "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