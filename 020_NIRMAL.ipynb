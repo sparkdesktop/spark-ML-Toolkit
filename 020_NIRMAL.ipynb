{
 "cells": [
  {
   "cell_type": "code",
   "execution_count": 4,
   "metadata": {},
   "outputs": [],
   "source": [
    "import numpy as np\n",
    "import pandas as pd"
   ]
  },
  {
   "cell_type": "markdown",
   "metadata": {},
   "source": [
    "### loading dataset"
   ]
  },
  {
   "cell_type": "code",
   "execution_count": 5,
   "metadata": {},
   "outputs": [],
   "source": [
    "data = pd.read_csv(\"student-data.csv\")"
   ]
  },
  {
   "cell_type": "code",
   "execution_count": 6,
   "metadata": {},
   "outputs": [
    {
     "data": {
      "text/html": [
       "<div>\n",
       "<style scoped>\n",
       "    .dataframe tbody tr th:only-of-type {\n",
       "        vertical-align: middle;\n",
       "    }\n",
       "\n",
       "    .dataframe tbody tr th {\n",
       "        vertical-align: top;\n",
       "    }\n",
       "\n",
       "    .dataframe thead th {\n",
       "        text-align: right;\n",
       "    }\n",
       "</style>\n",
       "<table border=\"1\" class=\"dataframe\">\n",
       "  <thead>\n",
       "    <tr style=\"text-align: right;\">\n",
       "      <th></th>\n",
       "      <th>school</th>\n",
       "      <th>sex</th>\n",
       "      <th>age</th>\n",
       "      <th>address</th>\n",
       "      <th>famsize</th>\n",
       "      <th>Pstatus</th>\n",
       "      <th>Medu</th>\n",
       "      <th>Fedu</th>\n",
       "      <th>Mjob</th>\n",
       "      <th>Fjob</th>\n",
       "      <th>...</th>\n",
       "      <th>internet</th>\n",
       "      <th>romantic</th>\n",
       "      <th>famrel</th>\n",
       "      <th>freetime</th>\n",
       "      <th>goout</th>\n",
       "      <th>Dalc</th>\n",
       "      <th>Walc</th>\n",
       "      <th>health</th>\n",
       "      <th>absences</th>\n",
       "      <th>passed</th>\n",
       "    </tr>\n",
       "  </thead>\n",
       "  <tbody>\n",
       "    <tr>\n",
       "      <th>0</th>\n",
       "      <td>GP</td>\n",
       "      <td>F</td>\n",
       "      <td>18</td>\n",
       "      <td>U</td>\n",
       "      <td>GT3</td>\n",
       "      <td>A</td>\n",
       "      <td>4</td>\n",
       "      <td>4</td>\n",
       "      <td>at_home</td>\n",
       "      <td>teacher</td>\n",
       "      <td>...</td>\n",
       "      <td>no</td>\n",
       "      <td>no</td>\n",
       "      <td>4</td>\n",
       "      <td>3</td>\n",
       "      <td>4</td>\n",
       "      <td>1</td>\n",
       "      <td>1</td>\n",
       "      <td>3</td>\n",
       "      <td>6</td>\n",
       "      <td>no</td>\n",
       "    </tr>\n",
       "    <tr>\n",
       "      <th>1</th>\n",
       "      <td>GP</td>\n",
       "      <td>F</td>\n",
       "      <td>17</td>\n",
       "      <td>U</td>\n",
       "      <td>GT3</td>\n",
       "      <td>T</td>\n",
       "      <td>1</td>\n",
       "      <td>1</td>\n",
       "      <td>at_home</td>\n",
       "      <td>other</td>\n",
       "      <td>...</td>\n",
       "      <td>yes</td>\n",
       "      <td>no</td>\n",
       "      <td>5</td>\n",
       "      <td>3</td>\n",
       "      <td>3</td>\n",
       "      <td>1</td>\n",
       "      <td>1</td>\n",
       "      <td>3</td>\n",
       "      <td>4</td>\n",
       "      <td>no</td>\n",
       "    </tr>\n",
       "    <tr>\n",
       "      <th>2</th>\n",
       "      <td>GP</td>\n",
       "      <td>F</td>\n",
       "      <td>15</td>\n",
       "      <td>U</td>\n",
       "      <td>LE3</td>\n",
       "      <td>T</td>\n",
       "      <td>1</td>\n",
       "      <td>1</td>\n",
       "      <td>at_home</td>\n",
       "      <td>other</td>\n",
       "      <td>...</td>\n",
       "      <td>yes</td>\n",
       "      <td>no</td>\n",
       "      <td>4</td>\n",
       "      <td>3</td>\n",
       "      <td>2</td>\n",
       "      <td>2</td>\n",
       "      <td>3</td>\n",
       "      <td>3</td>\n",
       "      <td>10</td>\n",
       "      <td>yes</td>\n",
       "    </tr>\n",
       "    <tr>\n",
       "      <th>3</th>\n",
       "      <td>GP</td>\n",
       "      <td>F</td>\n",
       "      <td>15</td>\n",
       "      <td>U</td>\n",
       "      <td>GT3</td>\n",
       "      <td>T</td>\n",
       "      <td>4</td>\n",
       "      <td>2</td>\n",
       "      <td>health</td>\n",
       "      <td>services</td>\n",
       "      <td>...</td>\n",
       "      <td>yes</td>\n",
       "      <td>yes</td>\n",
       "      <td>3</td>\n",
       "      <td>2</td>\n",
       "      <td>2</td>\n",
       "      <td>1</td>\n",
       "      <td>1</td>\n",
       "      <td>5</td>\n",
       "      <td>2</td>\n",
       "      <td>yes</td>\n",
       "    </tr>\n",
       "    <tr>\n",
       "      <th>4</th>\n",
       "      <td>GP</td>\n",
       "      <td>F</td>\n",
       "      <td>16</td>\n",
       "      <td>U</td>\n",
       "      <td>GT3</td>\n",
       "      <td>T</td>\n",
       "      <td>3</td>\n",
       "      <td>3</td>\n",
       "      <td>other</td>\n",
       "      <td>other</td>\n",
       "      <td>...</td>\n",
       "      <td>no</td>\n",
       "      <td>no</td>\n",
       "      <td>4</td>\n",
       "      <td>3</td>\n",
       "      <td>2</td>\n",
       "      <td>1</td>\n",
       "      <td>2</td>\n",
       "      <td>5</td>\n",
       "      <td>4</td>\n",
       "      <td>yes</td>\n",
       "    </tr>\n",
       "  </tbody>\n",
       "</table>\n",
       "<p>5 rows × 31 columns</p>\n",
       "</div>"
      ],
      "text/plain": [
       "  school sex  age address famsize Pstatus  Medu  Fedu     Mjob      Fjob  \\\n",
       "0     GP   F   18       U     GT3       A     4     4  at_home   teacher   \n",
       "1     GP   F   17       U     GT3       T     1     1  at_home     other   \n",
       "2     GP   F   15       U     LE3       T     1     1  at_home     other   \n",
       "3     GP   F   15       U     GT3       T     4     2   health  services   \n",
       "4     GP   F   16       U     GT3       T     3     3    other     other   \n",
       "\n",
       "   ...   internet romantic  famrel  freetime  goout Dalc Walc health absences  \\\n",
       "0  ...         no       no       4         3      4    1    1      3        6   \n",
       "1  ...        yes       no       5         3      3    1    1      3        4   \n",
       "2  ...        yes       no       4         3      2    2    3      3       10   \n",
       "3  ...        yes      yes       3         2      2    1    1      5        2   \n",
       "4  ...         no       no       4         3      2    1    2      5        4   \n",
       "\n",
       "  passed  \n",
       "0     no  \n",
       "1     no  \n",
       "2    yes  \n",
       "3    yes  \n",
       "4    yes  \n",
       "\n",
       "[5 rows x 31 columns]"
      ]
     },
     "execution_count": 6,
     "metadata": {},
     "output_type": "execute_result"
    }
   ],
   "source": [
    "data.head()"
   ]
  },
  {
   "cell_type": "code",
   "execution_count": 7,
   "metadata": {},
   "outputs": [
    {
     "data": {
      "text/plain": [
       "(395, 31)"
      ]
     },
     "execution_count": 7,
     "metadata": {},
     "output_type": "execute_result"
    }
   ],
   "source": [
    "data.shape"
   ]
  },
  {
   "cell_type": "code",
   "execution_count": 9,
   "metadata": {},
   "outputs": [
    {
     "data": {
      "text/plain": [
       "pandas.core.frame.DataFrame"
      ]
     },
     "execution_count": 9,
     "metadata": {},
     "output_type": "execute_result"
    }
   ],
   "source": [
    "type(data)"
   ]
  },
  {
   "cell_type": "markdown",
   "metadata": {},
   "source": [
    "### Exploratory data analysis"
   ]
  },
  {
   "cell_type": "code",
   "execution_count": 10,
   "metadata": {},
   "outputs": [],
   "source": [
    "import matplotlib.pyplot as plt\n",
    "import seaborn as sns"
   ]
  },
  {
   "cell_type": "code",
   "execution_count": 12,
   "metadata": {},
   "outputs": [
    {
     "data": {
      "image/png": "iVBORw0KGgoAAAANSUhEUgAAAXQAAAD8CAYAAABn919SAAAABHNCSVQICAgIfAhkiAAAAAlwSFlzAAALEgAACxIB0t1+/AAAADl0RVh0U29mdHdhcmUAbWF0cGxvdGxpYiB2ZXJzaW9uIDIuMi4zLCBodHRwOi8vbWF0cGxvdGxpYi5vcmcvIxREBQAAIABJREFUeJzsnXd8VFX6/99nJr2QQkIvCQpCSEIoAQSRarAAomDB/SpYFstPRV1R1LW7CrrLWrCxFtBlEQULFhRBUDoECBgIEEoIgUAS0ntm5vz+mJKZZJJMwkwSJufNi1fm1nPumTuf+9znPOc5QkqJQqFQKC5+NC1dAYVCoVA4ByXoCoVC4SYoQVcoFAo3QQm6QqFQuAlK0BUKhcJNUIKuUCgUboISdIVCoXATlKArFAqFm6AEXaFQKNwEj+YsLCwsTEZERDRnkQqFQnHRs3v37hwpZXhD+zWroEdERJCYmNicRSoUCsVFjxDipCP7KZeLQqFQuAlK0BUKhcJNUIKuUCgUbkKz+tDtUVVVRUZGBuXl5S1dFbfCx8eHbt264enp2dJVUSgUzUSLC3pGRgaBgYFEREQghGjp6rgFUkrOnz9PRkYGkZGRLV0dhULRTLS4y6W8vJz27dsrMXciQgjat2+v3noUijZGiws6oMTcBag2VSjaHq1C0BUKRfOSXZrNhvQNLV0NhZNpcR+6QqFofmb9PIv0onT23bEPjVB2nbugvkmFog1yqugUYOxAV7gPStCBqVOnMnjwYPr378/ixYsB+Pjjj+nTpw9jxozhr3/9Kw8++CAA2dnZTJs2jfj4eOLj49myZUtLVl2haBISafNX4R60KpfLi98f4OCZQqeeM6pLO56f3L/efT755BNCQ0MpKysjPj6e6667jpdffpk9e/YQGBjIuHHjGDBgAABz5szh0Ucf5YorriA9PZ2JEyeSkpLi1DorFM2FEnT3olUJekvx9ttv88033wBw6tQpPv/8c0aPHk1oaCgAN910E0eOHAFg3bp1HDx40HJsYWEhRUVFBAYGNn/FFYomIhBIpHK5uBmtStAbsqRdwcaNG1m3bh3btm3Dz8+PMWPGcNlll9VpdRsMBrZt24avr28z11ShcD7KQncv2rwPvaCggJCQEPz8/Dh06BDbt2+ntLSU33//nby8PHQ6HatWrbLsn5CQwKJFiyzLSUlJLVFtheKCMI9TMEhDC9dE4UzavKBfffXV6HQ6YmNjefbZZxk+fDhdu3bl6aefZtiwYUyYMIGoqCiCgoIAo3smMTGR2NhYoqKi+OCDD1r4ChSKpqNcLu5Fq3K5tATe3t6sWbOm1vohQ4Ywe/ZsdDodN9xwAwkJCQCEhYWxYsWK5q6mQqFQNEibt9Dr4oUXXiAuLo7o6GgiIyOZOnVqS1dJoXAaAuVycUcatNCFEJcB1iZpL+A54DPT+gggDbhZSpnn/Cq2DP/85z9bugoKhctRnaLuRYMWupTysJQyTkoZBwwGSoFvgHnAeillb2C9aVmhUFwEKAvdPWmsy2U8cExKeRK4HlhqWr8UUD4JhUKhaEEaK+i3AstNnztKKTMBTH872DtACDFbCJEohEjMzs5uek0VCoXTUVEu7oXDgi6E8AKmAF81pgAp5WIp5RAp5ZDw8PDG1k+hULgQA8rl4k40xkK/BtgjpTxnWj4nhOgMYPqb5ezKNRdCCG6//XbLsk6nIzw8nEmTJjXqPGPGjCExMdHZ1VMoXIay0N2Lxgj6DKrdLQCrgZmmzzOB75xVqebG39+f5ORkysrKAPj111/p2rVrC9dKoXAhpgmtVJSLe+GQoAsh/ICrgK+tVs8HrhJCpJq2zXd+9ZqPa665hh9//BGA5cuXM2PGDMu2kpIS7rrrLuLj4xk4cCDffWd8dpWVlXHrrbcSGxvLLbfcYnkgAAQEBFg+r1y5klmzZjXPhSgUjUBZ6O6FQyNFpZSlQPsa685jjHpxHmvmwdk/nXpKOsXANQ0/a2699VZeeuklJk2axP79+7nrrrvYtGkTAP/4xz8YN24cn3zyCfn5+QwdOpQJEybw4Ycf4ufnx/79+9m/fz+DBg1ybt0VChehwhbdkzY/9N9MbGwsaWlpLF++nGuvvdZm29q1a1