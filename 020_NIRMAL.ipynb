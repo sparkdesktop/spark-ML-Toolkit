{
 "cells": [
  {
   "cell_type": "code",
   "execution_count": 4,
   "metadata": {},
   "outputs": [],
   "source": [
    "import numpy as np\n",
    "import pandas as pd"
   ]
  },
  {
   "cell_type": "markdown",
   "metadata": {},
   "source": [
    "### loading dataset"
   ]
  },
  {
   "cell_type": "code",
   "execution_count": 5,
   "metadata": {},
   "outputs": [],
   "source": [
    "data = pd.read_csv(\"student-data.csv\")"
   ]
  },
  {
   "cell_type": "code",
   "execution_count": 6,
   "metadata": {},
   "outputs": [
    {
     "data": {
      "text/html": [
       "<div>\n",
       "<style scoped>\n",
       "    .dataframe tbody tr th:only-of-type {\n",
       "        vertical-align: middle;\n",
       "    }\n",
       "\n",
       "    .dataframe tbody tr th {\n",
       "        vertical-align: top;\n",
       "    }\n",
       "\n",
       "    .dataframe thead th {\n",
       "        text-align: right;\n",
       "    }\n",
       "</style>\n",
       "<table border=\"1\" class=\"dataframe\">\n",
       "  <thead>\n",
       "    <tr style=\"text-align: right;\">\n",
       "      <th></th>\n",
       "      <th>school</th>\n",
       "      <th>sex</th>\n",
       "      <th>age</th>\n",
       "      <th>address</th>\n",
       "      <th>famsize</th>\n",
       "      <th>Pstatus</th>\n",
       "      <th>Medu</th>\n",
       "      <th>Fedu</th>\n",
       "      <th>Mjob</th>\n",
       "      <th>Fjob</th>\n",
       "      <th>...</th>\n",
       "      <th>internet</th>\n",
       "      <th>romantic</th>\n",
       "      <th>famrel</th>\n",
       "      <th>freetime</th>\n",
       "      <th>goout</th>\n",
       "      <th>Dalc</th>\n",
       "      <th>Walc</th>\n",
       "      <th>health</th>\n",
       "      <th>absences</th>\n",
       "      <th>passed</th>\n",
       "    </tr>\n",
       "  </thead>\n",
       "  <tbody>\n",
       "    <tr>\n",
       "      <th>0</th>\n",
       "      <td>GP</td>\n",
       "      <td>F</td>\n",
       "      <td>18</td>\n",
       "      <td>U</td>\n",
       "      <td>GT3</td>\n",
       "      <td>A</td>\n",
       "      <td>4</td>\n",
       "      <td>4</td>\n",
       "      <td>at_home</td>\n",
       "      <td>teacher</td>\n",
       "      <td>...</td>\n",
       "      <td>no</td>\n",
       "      <td>no</td>\n",
       "      <td>4</td>\n",
       "      <td>3</td>\n",
       "      <td>4</td>\n",
       "      <td>1</td>\n",
       "      <td>1</td>\n",
       "      <td>3</td>\n",
       "      <td>6</td>\n",
       "      <td>no</td>\n",
       "    </tr>\n",
       "    <tr>\n",
       "      <th>1</th>\n",
       "      <td>GP</td>\n",
       "      <td>F</td>\n",
       "      <td>17</td>\n",
       "      <td>U</td>\n",
       "      <td>GT3</td>\n",
       "      <td>T</td>\n",
       "      <td>1</td>\n",
       "      <td>1</td>\n",
       "      <td>at_home</td>\n",
       "      <td>other</td>\n",
       "      <td>...</td>\n",
       "      <td>yes</td>\n",
       "      <td>no</td>\n",
       "      <td>5</td>\n",
       "      <td>3</td>\n",
       "      <td>3</td>\n",
       "      <td>1</td>\n",
       "      <td>1</td>\n",
       "      <td>3</td>\n",
       "      <td>4</td>\n",
       "      <td>no</td>\n",
       "    </tr>\n",
       "    <tr>\n",
       "      <th>2</th>\n",
       "      <td>GP</td>\n",
       "      <td>F</td>\n",
       "      <td>15</td>\n",
       "      <td>U</td>\n",
       "      <td>LE3</td>\n",
       "      <td>T</td>\n",
       "      <td>1</td>\n",
       "      <td>1</td>\n",
       "      <td>at_home</td>\n",
       "      <td>other</td>\n",
       "      <td>...</td>\n",
       "      <td>yes</td>\n",
       "      <td>no</td>\n",
       "      <td>4</td>\n",
       "      <td>3</td>\n",
       "      <td>2</td>\n",
       "      <td>2</td>\n",
       "      <td>3</td>\n",
       "      <td>3</td>\n",
       "      <td>10</td>\n",
       "      <td>yes</td>\n",
       "    </tr>\n",
       "    <tr>\n",
       "      <th>3</th>\n",
       "      <td>GP</td>\n",
       "      <td>F</td>\n",
       "      <td>15</td>\n",
       "      <td>U</td>\n",
       "      <td>GT3</td>\n",
       "      <td>T</td>\n",
       "      <td>4</td>\n",
       "      <td>2</td>\n",
       "      <td>health</td>\n",
       "      <td>services</td>\n",
       "      <td>...</td>\n",
       "      <td>yes</td>\n",
       "      <td>yes</td>\n",
       "      <td>3</td>\n",
       "      <td>2</td>\n",
       "      <td>2</td>\n",
       "      <td>1</td>\n",
       "      <td>1</td>\n",
       "      <td>5</td>\n",
       "      <td>2</td>\n",
       "      <td>yes</td>\n",
       "    </tr>\n",
       "    <tr>\n",
       "      <th>4</th>\n",
       "      <td>GP</td>\n",
       "      <td>F</td>\n",
       "      <td>16</td>\n",
       "      <td>U</td>\n",
       "      <td>GT3</td>\n",
       "      <td>T</td>\n",
       "      <td>3</td>\n",
       "      <td>3</td>\n",
       "      <td>other</td>\n",
       "      <td>other</td>\n",
       "      <td>...</td>\n",
       "      <td>no</td>\n",
       "      <td>no</td>\n",
       "      <td>4</td>\n",
       "      <td>3</td>\n",
       "      <td>2</td>\n",
       "      <td>1</td>\n",
       "      <td>2</td>\n",
       "      <td>5</td>\n",
       "      <td>4</td>\n",
       "      <td>yes</td>\n",
       "    </tr>\n",
       "  </tbody>\n",
       "</table>\n",
       "<p>5 rows × 31 columns</p>\n",
       "</div>"
      ],
      "text/plain": [
       "  school sex  age address famsize Pstatus  Medu  Fedu     Mjob      Fjob  \\\n",
       "0     GP   F   18       U     GT3       A     4     4  at_home   teacher   \n",
       "1     GP   F   17       U     GT3       T     1     1  at_home     other   \n",
       "2     GP   F   15       U     LE3       T     1     1  at_home     other   \n",
       "3     GP   F   15       U     GT3       T     4     2   health  services   \n",
       "4     GP   F   16       U     GT3       T     3     3    other     other   \n",
       "\n",
       "   ...   internet romantic  famrel  freetime  goout Dalc Walc health absences  \\\n",
       "0  ...         no       no       4         3      4    1    1      3        6   \n",
       "1  ...        yes       no       5         3      3    1    1      3        4   \n",
       "2  ...        yes       no       4         3      2    2    3      3       10   \n",
       "3  ...        yes      yes       3         2      2    1    1      5        2   \n",
       "4  ...         no       no       4         3      2    1    2      5        4   \n",
       "\n",
       "  passed  \n",
       "0     no  \n",
       "1     no  \n",
       "2    yes  \n",
       "3    yes  \n",
       "4    yes  \n",
       "\n",
       "[5 rows x 31 columns]"
      ]
     },
     "execution_count": 6,
     "metadata": {},
     "output_type": "execute_result"
    }
   ],
   "source": [
    "data.head()"
   ]
  },
  {
   "cell_type": "code",
   "execution_count": 7,
   "metadata": {},
   "outputs": [
    {
     "data": {
      "text/plain": [
       "(395, 31)"
      ]
     },
     "execution_count": 7,
     "metadata": {},
     "output_type": "execute_result"
    }
   ],
   "source": [
    "data.shape"
   ]
  },
  {
   "cell_type": "code",
   "execution_count": 9,
   "metadata": {},
   "outputs": [
    {
     "data": {
      "text/plain": [
       "pandas.core.frame.DataFrame"
      ]
     },
     "execution_count": 9,
     "metadata": {},
     "output_type": "execute_result"
    }
   ],
   "source": [
    "type(data)"
   ]
  },
  {
   "cell_type": "markdown",
   "metadata": {},
   "source": [
    "### Exploratory data analysis"
   ]
  },
  {
   "cell_type": "code",
   "execution_count": 10,
   "metadata": {},
   "outputs": [],
   "source": [
    "import matplotlib.pyplot as plt\n",
    "import seaborn as sns"
   ]
  },
  {
   "cell_type": "code",
   "execution_count": 12,
   "metadata": {},
   "outputs": [
    {
     "data": {
      "image/png": "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